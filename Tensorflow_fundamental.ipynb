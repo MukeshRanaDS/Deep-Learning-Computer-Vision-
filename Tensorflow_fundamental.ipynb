{
  "nbformat": 4,
  "nbformat_minor": 0,
  "metadata": {
    "colab": {
      "provenance": [],
      "gpuType": "T4",
      "authorship_tag": "ABX9TyMbb7It3mb2PCdvL/fnlLUk",
      "include_colab_link": true
    },
    "kernelspec": {
      "name": "python3",
      "display_name": "Python 3"
    },
    "language_info": {
      "name": "python"
    },
    "accelerator": "GPU"
  },
  "cells": [
    {
      "cell_type": "markdown",
      "metadata": {
        "id": "view-in-github",
        "colab_type": "text"
      },
      "source": [
        "<a href=\"https://colab.research.google.com/github/MukeshRanaDS/Deep-Learning-Computer-Vision-/blob/main/Tensorflow_fundamental.ipynb\" target=\"_parent\"><img src=\"https://colab.research.google.com/assets/colab-badge.svg\" alt=\"Open In Colab\"/></a>"
      ]
    },
    {
      "cell_type": "code",
      "execution_count": null,
      "metadata": {
        "colab": {
          "base_uri": "https://localhost:8080/",
          "height": 36
        },
        "id": "vZMtuhANQmON",
        "outputId": "ff4fd2f8-8c90-44d9-e800-93633c46e5d9"
      },
      "outputs": [
        {
          "output_type": "execute_result",
          "data": {
            "text/plain": [
              "'/device:GPU:0'"
            ],
            "application/vnd.google.colaboratory.intrinsic+json": {
              "type": "string"
            }
          },
          "metadata": {},
          "execution_count": 16
        }
      ],
      "source": [
        "import tensorflow as tf\n",
        "\n",
        "tf.test.gpu_device_name()"
      ]
    },
    {
      "cell_type": "code",
      "source": [
        "# 0-D Tensor\n",
        "print(tf.constant(4))"
      ],
      "metadata": {
        "colab": {
          "base_uri": "https://localhost:8080/"
        },
        "id": "EyKvJaAmSnKH",
        "outputId": "68f807f5-3a3f-4431-e3bb-5557fb03c77c"
      },
      "execution_count": null,
      "outputs": [
        {
          "output_type": "stream",
          "name": "stdout",
          "text": [
            "tf.Tensor(4, shape=(), dtype=int32)\n"
          ]
        }
      ]
    },
    {
      "cell_type": "code",
      "source": [
        "# 1-D Tensor (pack of 0-D tensors)\n",
        "print(tf.constant([1,2,3.9,]))\n",
        "\n",
        "# declare the tensor as float32\n",
        "print(tf.constant([1,2,3.9,], dtype=tf.float32))\n",
        "\n",
        "# Convert the tensor as int32 using casting\n",
        "print(tf.cast(tf.constant([1,2,3.9,], dtype=tf.float32), dtype=tf.int32))"
      ],
      "metadata": {
        "colab": {
          "base_uri": "https://localhost:8080/"
        },
        "id": "v2A_oFPPT79p",
        "outputId": "04a9276f-1e9f-4e83-8626-3a4c52395719"
      },
      "execution_count": null,
      "outputs": [
        {
          "output_type": "stream",
          "name": "stdout",
          "text": [
            "tf.Tensor([1.  2.  3.9], shape=(3,), dtype=float32)\n",
            "tf.Tensor([1.  2.  3.9], shape=(3,), dtype=float32)\n",
            "tf.Tensor([1 2 3], shape=(3,), dtype=int32)\n"
          ]
        }
      ]
    },
    {
      "cell_type": "code",
      "source": [
        "# 2-D tensor (pack of 1-D tensors)\n",
        "print(tf.constant([[1,2,3], [5,6.3,7], [5,3.4,7.1]]))"
      ],
      "metadata": {
        "colab": {
          "base_uri": "https://localhost:8080/"
        },
        "id": "Z5yCy1ImUAoo",
        "outputId": "cb8b9f38-eb2a-4a62-df32-76399f9202dc"
      },
      "execution_count": null,
      "outputs": [
        {
          "output_type": "stream",
          "name": "stdout",
          "text": [
            "tf.Tensor(\n",
            "[[1.  2.  3. ]\n",
            " [5.  6.3 7. ]\n",
            " [5.  3.4 7.1]], shape=(3, 3), dtype=float32)\n"
          ]
        }
      ]
    },
    {
      "cell_type": "code",
      "source": [
        "# 3-D tensor (pack of 2-d tensors)\n",
        "print(tf.constant([[[1,2,3], [5,3.4,7.1]], [[5,6.3,7], [5,3.4,7.1]]]))\n",
        "print(tf.constant([[[1,2,3], [5,3.4,7.1]], [[5,6.3,7], [5,3.4,7.1]]]).shape)\n",
        "print(tf.constant([[[1,2,3], [5,3.4,7.1]], [[5,6.3,7], [5,3.4,7.1]]]).ndim)"
      ],
      "metadata": {
        "colab": {
          "base_uri": "https://localhost:8080/"
        },
        "id": "cv1aplT5UU3A",
        "outputId": "564e255f-6e98-4f87-c1a9-f54ddcc2cb7d"
      },
      "execution_count": null,
      "outputs": [
        {
          "output_type": "stream",
          "name": "stdout",
          "text": [
            "tf.Tensor(\n",
            "[[[1.  2.  3. ]\n",
            "  [5.  3.4 7.1]]\n",
            "\n",
            " [[5.  6.3 7. ]\n",
            "  [5.  3.4 7.1]]], shape=(2, 2, 3), dtype=float32)\n",
            "(2, 2, 3)\n",
            "3\n"
          ]
        }
      ]
    },
    {
      "cell_type": "code",
      "source": [
        "tf.ones(2)"
      ],
      "metadata": {
        "id": "NcIR3Wz6VQ22",
        "colab": {
          "base_uri": "https://localhost:8080/"
        },
        "outputId": "e0dc489a-12ce-44d3-91fd-7a28ace54bc7"
      },
      "execution_count": 21,
      "outputs": [
        {
          "output_type": "execute_result",
          "data": {
            "text/plain": [
              "<tf.Tensor: shape=(2,), dtype=float32, numpy=array([1., 1.], dtype=float32)>"
            ]
          },
          "metadata": {},
          "execution_count": 21
        }
      ]
    },
    {
      "cell_type": "markdown",
      "source": [
        "## Einsum Operator"
      ],
      "metadata": {
        "id": "s6ru8UcwX7xZ"
      }
    },
    {
      "cell_type": "code",
      "source": [
        "import numpy as np"
      ],
      "metadata": {
        "id": "fnhzk9ycX7Rz"
      },
      "execution_count": 1,
      "outputs": []
    },
    {
      "cell_type": "code",
      "source": [
        "A = np.array([[2, 6, 5, 2],\n",
        "              [2, ]])"
      ],
      "metadata": {
        "id": "RoVSSH26YCTk"
      },
      "execution_count": null,
      "outputs": []
    },
    {
      "cell_type": "markdown",
      "source": [],
      "metadata": {
        "id": "EMSvhPgtaUEH"
      }
    }
  ]
}